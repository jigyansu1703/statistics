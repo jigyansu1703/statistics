{
  "nbformat": 4,
  "nbformat_minor": 0,
  "metadata": {
    "colab": {
      "provenance": []
    },
    "kernelspec": {
      "name": "python3",
      "display_name": "Python 3"
    },
    "language_info": {
      "name": "python"
    }
  },
  "cells": [
    {
      "cell_type": "markdown",
      "source": [
        "# **STATISTICS BASICS QUESTIONS...**"
      ],
      "metadata": {
        "id": "HiyIC8VC3WMh"
      }
    },
    {
      "cell_type": "markdown",
      "source": [
        "# **THEORETICAL QUESTIONS...**"
      ],
      "metadata": {
        "id": "s4nDxeVH3dOn"
      }
    },
    {
      "cell_type": "markdown",
      "source": [
        "**Question 1: What is the difference between descriptive statistics and inferential\n",
        "statistics? Explain with examples.**\n",
        "\n",
        "**Ans 1) Descriptive Statistics**\n",
        "\n",
        "**Descriptive statistics** are used to summarize, organize, and simplify data. It provides simple summaries about the sample and its measures.\n",
        "\n",
        "**Key Features:**\n",
        "\n",
        "1) Describes data from a sample or population.\n",
        "\n",
        "2) Includes mean, median, mode, standard deviation, percentage, etc.\n",
        "\n",
        "3) No predictions or generalizations are made beyond the data.\n",
        "\n",
        "\n",
        "**Example:**\n",
        "\n",
        "Suppose a teacher wants to know the average marks of students in a class of 40 students.\n",
        "\n",
        "**She calculates:**\n",
        "\n",
        "**Mean = 75**\n",
        "\n",
        "**Median = 78**\n",
        "\n",
        "**Standard Deviation = 5**\n",
        "\n",
        "These values describe the marks of the students in that specific class — this is descriptive statistics.\n",
        "\n",
        "\n",
        "\n",
        "**Inferential Statistics:**\n",
        "\n",
        "**Inferential statistics** are used to make predictions or generalizations about a population based on a sample of data.\n",
        "\n",
        "**Key Features:**\n",
        "\n",
        "1) Makes conclusions or predictions.\n",
        "\n",
        "2) Uses hypothesis testing, confidence intervals, regression, etc.\n",
        "\n",
        "Deals with probability and uncertainty.\n",
        "\n",
        "\n",
        "**Example:**\n",
        "\n",
        "A researcher surveys 100 people in a city to find out their average monthly spending on groceries and uses this data to predict the average spending for the entire city population.\n",
        "\n",
        "This involves inferential statistics, because it is drawing conclusions about a large group from a small sample.\n"
      ],
      "metadata": {
        "id": "EAIgWvwY38lq"
      }
    },
    {
      "cell_type": "markdown",
      "source": [
        "**Question 2: What is sampling in statistics? Explain the differences between random\n",
        "and stratified sampling.**\n",
        "\n",
        "**Answer 2) What is Sampling in Statistics?**\n",
        "\n",
        "Sampling is the process of selecting a subset (called a sample) from a larger group (called a population) to gather information and make inferences about the entire population.\n",
        "It is used when it's impractical or impossible to study the whole population due to time, cost, or logistical reasons.\n",
        "\n",
        "| Feature           | **Random Sampling**                                                       | **Stratified Sampling**                                                                                                  |\n",
        "| ----------------- | ------------------------------------------------------------------------- | ------------------------------------------------------------------------------------------------------------------------ |\n",
        "| **Definition**    | Every individual in the population has an equal chance of being selected. | Population is divided into sub-groups (strata) based on characteristics, and random samples are taken from each stratum. |\n",
        "| **Purpose**       | To eliminate bias and ensure each member has an equal chance.             | To ensure representation from different sub-groups within the population.                                                |\n",
        "| **Example**       | Choosing 100 students at random from a school of 1,000 students.          | Dividing students into grades (e.g., 9th, 10th, 11th, 12th), then randomly selecting 25 students from each grade.        |\n",
        "| **Use Case**      | When the population is homogeneous (similar).                             | When the population is heterogeneous (diverse) and divided into clear groups.                                            |\n",
        "| **Advantages**    | Simple to conduct, less data required.                                    | More accurate representation of the population.                                                                          |\n",
        "| **Disadvantages** | May not represent all sub-groups equally.                                 | More complex and requires knowledge of population structure.                                                             |\n"
      ],
      "metadata": {
        "id": "ZABhWJLEWCBn"
      }
    },
    {
      "cell_type": "markdown",
      "source": [
        "**Question 3: Define mean, median, and mode. Explain why these measures of central\n",
        "tendency are important.**\n",
        "\n",
        "**Answer 3) Definitions:**\n",
        "\n",
        "**Mean (Average):**\n",
        "The mean is the sum of all values divided by the number of values.\n",
        "\n",
        "**Formula:**\n",
        "\n",
        "**Mean**\n",
        "=\n",
        "Sum of all values\n",
        "Number of values\n",
        "Mean=\n",
        "Number of values\n",
        "Sum of all values\n",
        "​\n",
        "\n",
        "**Example:**\n",
        "For the values 4, 6, 8:\n",
        "\n",
        "\n",
        "**Mean**\n",
        "=\n",
        "4\n",
        "+\n",
        "6\n",
        "+\n",
        "8\n",
        "3\n",
        "=\n",
        "18\n",
        "3\n",
        "=\n",
        "6\n",
        "Mean=\n",
        "3\n",
        "4+6+8\n",
        "​\n",
        " =\n",
        "3\n",
        "18\n",
        "​\n",
        " =6\n",
        "\n",
        "\n",
        "\n",
        "**Median:**\n",
        "\n",
        "The median is the middle value when the numbers are arranged in order.\n",
        "\n",
        "If there is an odd number of values, the middle one is the median.\n",
        "\n",
        "If there is an even number, the median is the average of the two middle values.\n",
        "**Example:**\n",
        "For the values 3, 5, 7 → Median = 5\n",
        "For 3, 5, 7, 9 → Median = (5 + 7) ÷ 2 = 6\n",
        "\n",
        "\n",
        "**Mode:**\n",
        "\n",
        "The mode is the value that occurs most frequently in a data set.\n",
        "\n",
        "A set may have no mode, one mode, or multiple modes.\n",
        "\n",
        "**Example:**\n",
        "\n",
        "**For the values 2, 4, 4, 6, 8 → Mode = 4**\n",
        "\n",
        "**Why Are These Measures Important?**\n",
        "\n",
        "These three are called measures of central tendency because they summarize a large dataset with a single representative value. Here's why they are important:\n",
        "\n",
        "\n",
        "| Measure    | Importance                                                                                                          |\n",
        "| ---------- | ------------------------------------------------------------------------------------------------------------------- |\n",
        "| **Mean**   | Gives a general average; useful for comparing overall performance (e.g., average income, average score).            |\n",
        "| **Median** | Useful when data has **outliers** or extreme values, because it is not affected by them (e.g., median house price). |\n",
        "| **Mode**   | Helps identify the most common or popular value (e.g., most sold product size).                                     |\n",
        "\n",
        "\n"
      ],
      "metadata": {
        "id": "N9TiWb_QWvAm"
      }
    },
    {
      "cell_type": "markdown",
      "source": [
        "**Question 4: Explain skewness and kurtosis. What does a positive skew imply about the\n",
        "data?**\n",
        "\n",
        "**Answer 4)** Skewness and kurtosis are statistical measures that describe the shape and distribution of a dataset.\n",
        "\n",
        "**Skewness**\n",
        "\n",
        "Skewness refers to the asymmetry of a data distribution. If the data is perfectly symmetrical (like a normal distribution), the skewness is zero.\n",
        "\n",
        "**A positive skew** (right-skewed) means the right tail is longer, and most of the data values are concentrated on the left. This implies that a few unusually high values are pulling the mean to the right.\n",
        "\n",
        "**A negative skew** (left-skewed) means the left tail is longer, and most data values are on the right, with some lower values pulling the mean down.\n",
        "\n",
        "**Kurtosis**-\n",
        "\n",
        "Kurtosis measures the \"tailedness\" or peakedness of the data distribution.\n",
        "\n",
        "**High kurtosis** (leptokurtic) indicates a sharp peak and heavy tails, meaning more outliers.\n",
        "\n",
        "**Low kurtosis** (platykurtic) indicates a flatter peak and thinner tails, with fewer outliers.\n",
        "\n",
        "**Normal kurtosis** (mesokurtic) is the standard bell-shaped curve with moderate tails.\n",
        "\n",
        "**What does a positive skew imply about the data?**\n",
        "\n",
        "A positive skew implies that the dataset has a long tail on the right side, with a few large values that are higher than the majority. In this case, the mean is greater than the median, indicating that the average is being influenced by these high values. This type of distribution is common in real-world data like income levels, where most people earn less, and a few earn very high incomes."
      ],
      "metadata": {
        "id": "v_pKZSWuYbEQ"
      }
    },
    {
      "cell_type": "code",
      "source": [
        "# Question 5: Implement a Python program to compute the mean, median, and mode of a given list of numbers.\n",
        "\n",
        "Numbers = [12, 15, 12, 18, 19, 12, 20, 22, 19, 19, 24, 24, 24, 26, 28]\n",
        "# (Include your Python code and output in the code box below.)\n",
        "\n",
        "import statistics\n",
        "\n",
        "numbers = [12, 15, 12, 18, 19, 12, 20, 22, 19, 19, 24, 24, 24, 26, 28]\n",
        "\n",
        "# Calculating mean, median, and mode\n",
        "mean = statistics.mean(numbers)\n",
        "median = statistics.median(numbers)\n",
        "mode = statistics.mode(numbers)\n",
        "\n",
        "print(\"Mean  :\", mean)\n",
        "print(\"Median:\", median)\n",
        "print(\"Mode  :\", mode)"
      ],
      "metadata": {
        "colab": {
          "base_uri": "https://localhost:8080/"
        },
        "id": "IE79Uq-AZ_Lk",
        "outputId": "26a17bc4-eb1d-4aa4-b415-b50d80cdf1a9"
      },
      "execution_count": null,
      "outputs": [
        {
          "output_type": "stream",
          "name": "stdout",
          "text": [
            "Mean  : 19.6\n",
            "Median: 19\n",
            "Mode  : 12\n"
          ]
        }
      ]
    },
    {
      "cell_type": "code",
      "source": [
        "# Question 6: Compute the covariance and correlation coefficient between the following two datasets provided as lists in Python:\n",
        "\n",
        "list_x = [10, 20, 30, 40, 50]\n",
        "list_y = [15, 25, 35, 45, 60]\n",
        "# (Include your Python code and output in the code box below.)\n",
        "\n",
        "\n",
        "import numpy as np\n",
        "\n",
        "\n",
        "list_x = [10, 20, 30, 40, 50]\n",
        "list_y = [15, 25, 35, 45, 60]\n",
        "\n",
        "x = np.array(list_x)\n",
        "y = np.array(list_y)\n",
        "\n",
        "# Calculate covariance matrix\n",
        "cov_matrix = np.cov(x, y, bias=False)  # bias=False uses sample covariance\n",
        "covariance = cov_matrix[0][1]\n",
        "\n",
        "# Calculate correlation coefficient\n",
        "correlation = np.corrcoef(x, y)[0][1]\n",
        "\n",
        "# Display results\n",
        "print(\"Covariance           :\", covariance)\n",
        "print(\"Correlation Coefficient:\", correlation)"
      ],
      "metadata": {
        "colab": {
          "base_uri": "https://localhost:8080/"
        },
        "id": "aqyXuy_ra847",
        "outputId": "ae417d7c-d6fa-4a44-954e-d6c97e9a2f7d"
      },
      "execution_count": null,
      "outputs": [
        {
          "output_type": "stream",
          "name": "stdout",
          "text": [
            "Covariance           : 275.0\n",
            "Correlation Coefficient: 0.995893206467704\n"
          ]
        }
      ]
    },
    {
      "cell_type": "code",
      "source": [
        "# Question 7: Write a Python script to draw a boxplot for the following numeric list and\n",
        "# identify its outliers.\n",
        "# Explain the result:\n",
        "data = [12, 14, 14, 15, 18, 19, 19, 21, 22, 22, 23, 23, 24, 26, 29, 35]\n",
        "\n",
        "import matplotlib.pyplot as plt\n",
        "import numpy as np\n",
        "\n",
        "data = [12, 14, 14, 15, 18, 19, 19, 21, 22, 22, 23, 23, 24, 26, 29, 35]\n",
        "\n",
        "# Boxplot\n",
        "plt.boxplot(data)\n",
        "plt.title(\"Boxplot\")\n",
        "plt.show()\n",
        "\n",
        "# Outlier detection\n",
        "q1, q3 = np.percentile(data, [25, 75])\n",
        "iqr = q3 - q1\n",
        "lower, upper = q1 - 1.5*iqr, q3 + 1.5*iqr\n",
        "outliers = [x for x in data if x < lower or x > upper]\n",
        "print(\"Outliers:\", outliers)\n",
        "\n",
        "\n"
      ],
      "metadata": {
        "id": "RQkK0Ydd4Etc",
        "colab": {
          "base_uri": "https://localhost:8080/",
          "height": 469
        },
        "outputId": "1d5fbeb3-a495-47bc-ef78-2c5443cf30b1"
      },
      "execution_count": null,
      "outputs": [
        {
          "output_type": "display_data",
          "data": {
            "text/plain": [
              "<Figure size 640x480 with 1 Axes>"
            ],
            "image/png": "[encoded data removed]"
          },
          "metadata": {}
        },
        {
          "output_type": "stream",
          "name": "stdout",
          "text": [
            "Outliers: [35]\n"
          ]
        }
      ]
    },
    {
      "cell_type": "code",
      "source": [
        "# Question 8: You are working as a data analyst in an e-commerce company. The\n",
        "# marketing team wants to know if there is a relationship between advertising spend and\n",
        "# daily sales.\n",
        "\n",
        "# Explain how you would use covariance and correlation to explore this\n",
        "# relationship.\n",
        "\n",
        "Write Python code to compute the correlation between the two lists:\n",
        "\n",
        "advertising_spend = [200, 250, 300, 400, 500]\n",
        " daily_sales = [2200, 2450, 2750, 3200, 4000]\n",
        "\n",
        "\n",
        "import numpy as np\n",
        "\n",
        "# Given data\n",
        "advertising_spend = [200, 250, 300, 400, 500]\n",
        "daily_sales = [2200, 2450, 2750, 3200, 4000]\n",
        "\n",
        "\n",
        "x = np.array(advertising_spend)\n",
        "y = np.array(daily_sales)\n",
        "\n",
        "cov_matrix = np.cov(x, y, bias=False)\n",
        "covariance = cov_matrix[0][1]\n",
        "\n",
        "# Compute correlation\n",
        "correlation = np.corrcoef(x, y)[0][1]\n",
        "\n",
        "# Print results\n",
        "print(\"Covariance:\", covariance)\n",
        "print(\"Correlation Coefficient:\", correlation)"
      ],
      "metadata": {
        "colab": {
          "base_uri": "https://localhost:8080/"
        },
        "id": "oT6IOLXPdING",
        "outputId": "13a0337d-0993-4bcf-b0bb-ce8401883e1b"
      },
      "execution_count": null,
      "outputs": [
        {
          "output_type": "stream",
          "name": "stdout",
          "text": [
            "Covariance: 84875.0\n",
            "Correlation Coefficient: 0.9935824101653329\n"
          ]
        }
      ]
    },
    {
      "cell_type": "code",
      "source": [
        "# Question 9)  Your team has collected customer satisfaction survey data on a scale of\n",
        "# 1-10 and wants to understand its distribution before launching a new product.\n",
        "\n",
        "# ● Explain which summary statistics and visualizations (e.g. mean, standard\n",
        "# deviation, histogram) you’d use.\n",
        "\n",
        "# ● Write Python code to create a histogram using Matplotlib for the survey data:\n",
        "\n",
        "# survey_scores = [7, 8, 5, 9, 6, 7, 8, 9, 10, 4, 7, 6, 9, 8, 7]\n",
        "\n",
        "\n",
        "import numpy as np\n",
        "import matplotlib.pyplot as plt\n",
        "\n",
        "# Given survey scores\n",
        "survey_scores = [7, 8, 5, 9, 6, 7, 8, 9, 10, 4, 7, 6, 9, 8, 7]\n",
        "\n",
        "# Create histogram\n",
        "plt.figure(figsize=(8, 5))\n",
        "plt.hist(survey_scores, bins=7, color='skyblue', edgecolor='black')\n",
        "plt.title(\"Customer Satisfaction Score Distribution\")\n",
        "plt.xlabel(\"Survey Score (1–10)\")\n",
        "plt.ylabel(\"Frequency\")\n",
        "plt.grid(True, linestyle='--', alpha=0.5)\n",
        "plt.show()"
      ],
      "metadata": {
        "colab": {
          "base_uri": "https://localhost:8080/",
          "height": 487
        },
        "id": "uMKDVRLSeDmF",
        "outputId": "7cf8218a-93cf-4762-fb31-747ce034fd14"
      },
      "execution_count": null,
      "outputs": [
        {
          "output_type": "display_data",
          "data": {
            "text/plain": [
              "<Figure size 800x500 with 1 Axes>"
            ],
            "image/png": "[encoded data removed]"
          },
          "metadata": {}
        }
      ]
    }
  ]
}